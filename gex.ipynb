{
 "cells": [
  {
   "cell_type": "markdown",
   "id": "713d8eb2",
   "metadata": {},
   "source": [
    "# Advanced Employee Turnover Prediction Notebook\n",
    "This notebook contains the full pipeline with hyperparameter tuning and SMOTE."
   ]
  },
  {
   "cell_type": "code",
   "execution_count": null,
   "id": "d304afd0",
   "metadata": {},
   "outputs": [],
   "source": []
  },
  {
   "cell_type": "code",
   "execution_count": 2,
   "id": "3a5c7bf7",
   "metadata": {},
   "outputs": [],
   "source": [
    "import pandas as pd\n",
    "import numpy as np\n",
    "from pathlib import Path\n",
    "from sklearn.model_selection import train_test_split, GridSearchCV, cross_val_score\n",
    "from sklearn.ensemble import RandomForestClassifier, GradientBoostingClassifier, VotingClassifier\n",
    "from sklearn.metrics import accuracy_score, roc_auc_score, classification_report, confusion_matrix\n",
    "from sklearn.preprocessing import OneHotEncoder, StandardScaler\n",
    "from sklearn.compose import ColumnTransformer\n",
    "from sklearn.feature_selection import SelectKBest, f_classif\n",
    "from imblearn.over_sampling import SMOTE\n",
    "from imblearn.pipeline import Pipeline as ImbPipeline\n",
    "import pickle\n",
    "import warnings\n",
    "\n",
    "warnings.filterwarnings('ignore')\n",
    "RANDOM_STATE = 42\n"
   ]
  },
  {
   "cell_type": "code",
   "execution_count": 3,
   "id": "041481bc",
   "metadata": {},
   "outputs": [],
   "source": [
    "def load_data() -> pd.DataFrame:\n",
    "    \"\"\"Load turnover.csv from script directory or CWD.\"\"\"\n",
    "    script_dir = Path().resolve()\n",
    "    cwd = Path.cwd().resolve()\n",
    "    for location in (script_dir / \"turnover.csv\", cwd / \"turnover.csv\"):\n",
    "        if location.exists():\n",
    "            df = pd.read_csv(location, encoding=\"ISO-8859-1\")\n",
    "            print(f\"Loaded {df.shape[0]}×{df.shape[1]} from {location}\")\n",
    "            return df\n",
    "    raise FileNotFoundError(\"turnover.csv not found.\")\n",
    "\n",
    "def feature_engineering(df: pd.DataFrame) -> pd.DataFrame:\n",
    "    df = df.copy()\n",
    "    df['tenure_years'] = df['stag'] / 12.0\n",
    "    df['age_group'] = pd.cut(df['age'], bins=[0,25,35,45,100], labels=['Young','Mid','Senior','Veteran'])\n",
    "    df['personality_score'] = df[['extraversion','independ','selfcontrol','anxiety','novator']].mean(axis=1)\n",
    "    df['stress_level'] = df['anxiety'] + df['selfcontrol']\n",
    "    df['adaptability'] = df['novator'] + df['extraversion']\n",
    "    df['tenure_age_ratio'] = df['tenure_years'] / df['age']\n",
    "    df['coaching_impact'] = (df['coach']=='yes').astype(int) * df['personality_score']\n",
    "    df['high_risk'] = ((df['stag']<12)&(df['age']<30)).astype(int)\n",
    "    df['low_risk'] = ((df['stag']>60)&(df['age']>35)).astype(int)\n",
    "    return df\n",
    "\n",
    "def build_preprocessor(cat_cols, num_cols):\n",
    "    return ColumnTransformer([\n",
    "        ('cat', OneHotEncoder(handle_unknown='ignore', sparse_output=False), cat_cols),\n",
    "        ('num', StandardScaler(), num_cols)\n",
    "    ])\n",
    "\n",
    "def tune_classifier(pipeline, param_grid, X_train, y_train, name):\n",
    "    grid = GridSearchCV(pipeline, param_grid, cv=5, scoring='accuracy', n_jobs=-1, verbose=1)\n",
    "    grid.fit(X_train, y_train)\n",
    "    print(f\"Best {name} params: {grid.best_params_}\")\n",
    "    return grid.best_estimator_\n"
   ]
  },
  {
   "cell_type": "code",
   "execution_count": 5,
   "id": "8081175f",
   "metadata": {},
   "outputs": [
    {
     "name": "stdout",
     "output_type": "stream",
     "text": [
      "Loaded 1129×16 from C:\\Users\\Rajiv Arora\\Desktop\\EmployeeTurnover\\turnover.csv\n",
      "Fitting 5 folds for each of 16 candidates, totalling 80 fits\n",
      "Best RandomForest params: {'clf__max_depth': 15, 'clf__min_samples_leaf': 2, 'clf__min_samples_split': 5, 'clf__n_estimators': 300}\n",
      "Fitting 5 folds for each of 32 candidates, totalling 160 fits\n",
      "Best GradientBoosting params: {'clf__learning_rate': 0.05, 'clf__max_depth': 6, 'clf__min_samples_leaf': 3, 'clf__min_samples_split': 3, 'clf__n_estimators': 200}\n",
      "Accuracy: 0.6460176991150443\n",
      "ROC AUC: 0.7291666666666667\n",
      "              precision    recall  f1-score   support\n",
      "\n",
      "           0       0.65      0.61      0.63       112\n",
      "           1       0.64      0.68      0.66       114\n",
      "\n",
      "    accuracy                           0.65       226\n",
      "   macro avg       0.65      0.65      0.65       226\n",
      "weighted avg       0.65      0.65      0.65       226\n",
      "\n",
      "[[68 44]\n",
      " [36 78]]\n"
     ]
    }
   ],
   "source": [
    "# Load and prepare data\n",
    "df = load_data()\n",
    "df = feature_engineering(df)\n",
    "y = df.pop('event')\n",
    "X = df\n",
    "\n",
    "# Train/test split\n",
    "X_train, X_test, y_train, y_test = train_test_split(X, y, stratify=y, test_size=0.2, random_state=RANDOM_STATE)\n",
    "\n",
    "# Define columns\n",
    "cat_cols = ['gender','industry','profession','traffic','coach','head_gender','greywage','way','age_group']\n",
    "num_cols = [c for c in X.columns if c not in cat_cols]\n",
    "\n",
    "# Preprocessor\n",
    "preproc = build_preprocessor(cat_cols, num_cols)\n",
    "\n",
    "# Pipelines and parameter grids\n",
    "rf_pipe = ImbPipeline([('prep', preproc), ('select', SelectKBest(f_classif, k=50)), ('smote', SMOTE(random_state=RANDOM_STATE)), ('clf', RandomForestClassifier(random_state=RANDOM_STATE, n_jobs=-1))])\n",
    "rf_params = {'clf__n_estimators':[200,300], 'clf__max_depth':[10,15], 'clf__min_samples_split':[4,5], 'clf__min_samples_leaf':[1,2]}\n",
    "\n",
    "gb_pipe = ImbPipeline([('prep', preproc), ('select', SelectKBest(f_classif, k=50)), ('smote', SMOTE(random_state=RANDOM_STATE)), ('clf', GradientBoostingClassifier(random_state=RANDOM_STATE))])\n",
    "gb_params = {'clf__n_estimators':[100,200], 'clf__learning_rate':[0.05,0.1], 'clf__max_depth':[6,8], 'clf__min_samples_split':[3,5], 'clf__min_samples_leaf':[1,3]}\n",
    "\n",
    "# Tune models\n",
    "best_rf = tune_classifier(rf_pipe, rf_params, X_train, y_train, 'RandomForest')\n",
    "best_gb = tune_classifier(gb_pipe, gb_params, X_train, y_train, 'GradientBoosting')\n",
    "\n",
    "# Final ensemble\n",
    "vote_clf = VotingClassifier(estimators=[('rf', best_rf.named_steps['clf']), ('gb', best_gb.named_steps['clf'])], voting='soft', n_jobs=-1)\n",
    "final_pipe = ImbPipeline([('prep', preproc), ('select', SelectKBest(f_classif, k=50)), ('smote', SMOTE(random_state=RANDOM_STATE)), ('vote', vote_clf)])\n",
    "final_pipe.fit(X_train, y_train)\n",
    "\n",
    "# Evaluate\n",
    "y_pred = final_pipe.predict(X_test)\n",
    "print('Accuracy:', accuracy_score(y_test, y_pred))\n",
    "print('ROC AUC:', roc_auc_score(y_test, final_pipe.predict_proba(X_test)[:,1]))\n",
    "print(classification_report(y_test, y_pred))\n",
    "print(confusion_matrix(y_test, y_pred))\n",
    "\n",
    "# Save model\n",
    "with open('employee_turnover_optimized.pkl','wb') as f:\n",
    "    pickle.dump(final_pipe, f)\n"
   ]
  }
 ],
 "metadata": {
  "kernelspec": {
   "display_name": "Employee-turnover",
   "language": "python",
   "name": "python3"
  },
  "language_info": {
   "codemirror_mode": {
    "name": "ipython",
    "version": 3
   },
   "file_extension": ".py",
   "mimetype": "text/x-python",
   "name": "python",
   "nbconvert_exporter": "python",
   "pygments_lexer": "ipython3",
   "version": "3.12.11"
  }
 },
 "nbformat": 4,
 "nbformat_minor": 5
}
